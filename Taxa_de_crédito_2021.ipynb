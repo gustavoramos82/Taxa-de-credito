{
  "nbformat": 4,
  "nbformat_minor": 0,
  "metadata": {
    "colab": {
      "private_outputs": true,
      "provenance": []
    },
    "kernelspec": {
      "name": "python3",
      "display_name": "Python 3"
    },
    "language_info": {
      "name": "python"
    }
  },
  "cells": [
    {
      "cell_type": "code",
      "source": [
        "!pip install sidetable\n",
        "!pip install pandas-profiling==3.6.6\n",
        "!pip install matplotlib==3.2.2"
      ],
      "metadata": {
        "id": "Lff3flGOtMxg"
      },
      "execution_count": null,
      "outputs": []
    },
    {
      "cell_type": "code",
      "execution_count": null,
      "metadata": {
        "id": "7NXTopbVo4-f"
      },
      "outputs": [],
      "source": [
        "import numpy as np\n",
        "import pandas as pd\n",
        "\n",
        "import seaborn as sns\n",
        "import matplotlib.pyplot as plt\n",
        "import matplotlib as pl\n",
        "import matplotlib.backend_bases\n",
        "import plotly.express as px\n",
        "\n",
        "import sidetable\n",
        "import pandas_profiling\n",
        "import missingno as msno\n",
        "from ipywidgets import interact, widgets\n",
        "\n",
        "from sklearn import datasets\n",
        "from sklearn.preprocessing import scale, minmax_scale, power_transform"
      ]
    },
    {
      "cell_type": "code",
      "source": [
        "taxa_juros = pd.read_excel('/content/drive/MyDrive/CURSO ANALISE DE DADOS DNC/PROJETO TAXA DE JUROS/2021 agrupado.xlsx')\n",
        "taxa_juros.head()"
      ],
      "metadata": {
        "id": "-t0RJF8spDBI"
      },
      "execution_count": null,
      "outputs": []
    },
    {
      "cell_type": "code",
      "source": [
        "taxa_juros.info()"
      ],
      "metadata": {
        "id": "-gSUvSkdqRDQ"
      },
      "execution_count": null,
      "outputs": []
    },
    {
      "cell_type": "code",
      "source": [
        "taxa_juros.shape"
      ],
      "metadata": {
        "id": "HitdrlC-qaRg"
      },
      "execution_count": null,
      "outputs": []
    },
    {
      "cell_type": "code",
      "source": [
        "taxa_juros.duplicated().sum()"
      ],
      "metadata": {
        "id": "8sWw8SSaqfTK"
      },
      "execution_count": null,
      "outputs": []
    },
    {
      "cell_type": "code",
      "source": [
        "taxa_juros.isnull().sum()"
      ],
      "metadata": {
        "id": "RPTonsISqf_y"
      },
      "execution_count": null,
      "outputs": []
    },
    {
      "cell_type": "code",
      "source": [
        "## LEMBRANDO QUE OS VALORES DAS TAXAS ESTÃO TODOS EM PORCENTAGEM AO MÊS\n",
        "\n",
        "taxa_juros.describe()"
      ],
      "metadata": {
        "id": "ejLkjMFIqnkE"
      },
      "execution_count": null,
      "outputs": []
    },
    {
      "cell_type": "markdown",
      "source": [
        "Perguntar ao grupo se vale a pena remover essas taxas, pois se o rotativo foi = 0 nõ tínhamos juros no cartão"
      ],
      "metadata": {
        "id": "3RVDYADsr74w"
      }
    },
    {
      "cell_type": "code",
      "source": [
        "taxa_juros.query('TaxaJurosAoMes==0.00')"
      ],
      "metadata": {
        "id": "ylbBN5h8q3-B"
      },
      "execution_count": null,
      "outputs": []
    },
    {
      "cell_type": "code",
      "source": [
        "taxa_juros[['TaxaJurosAoMes', 'TaxaJurosAoAno']].apply(scale).boxplot()"
      ],
      "metadata": {
        "id": "_NJCFScqsdVa"
      },
      "execution_count": null,
      "outputs": []
    },
    {
      "cell_type": "code",
      "source": [
        "def is_outlier(array, extreme=False):\n",
        "  \"\"\"Custom function to identify outliers in an array\"\"\"\n",
        "  q1,q3 = np.quantile(array, [.25,.75])\n",
        "  iqr = q3-q1\n",
        "\n",
        "  factor = 2. if extreme else 1.5\n",
        "  upper_outlier = q3 + factor*iqr\n",
        "  lower_outlier = q1 - factor*iqr\n",
        "\n",
        "  return (array < lower_outlier) | (array > upper_outlier)"
      ],
      "metadata": {
        "id": "0CiOijGeugDg"
      },
      "execution_count": null,
      "outputs": []
    },
    {
      "cell_type": "code",
      "source": [
        "taxa_juros[['TaxaJurosAoAno','TaxaJurosAoMes']].apply(is_outlier).sum()"
      ],
      "metadata": {
        "id": "O1v_jq48ulN0"
      },
      "execution_count": null,
      "outputs": []
    },
    {
      "cell_type": "code",
      "source": [
        "taxa_juros[~taxa_juros[['TaxaJurosAoAno','TaxaJurosAoMes']].apply(is_outlier).any(axis=1)]"
      ],
      "metadata": {
        "id": "ETD8z9oivUYZ"
      },
      "execution_count": null,
      "outputs": []
    },
    {
      "cell_type": "code",
      "source": [
        "taxa_juros_sem_outlier = taxa_juros[~taxa_juros[['TaxaJurosAoAno','TaxaJurosAoMes']].apply(is_outlier).any(axis=1)]\n",
        "fig,axes = plt.subplots(ncols=2, figsize=(18,6))\n",
        "taxa_juros[['TaxaJurosAoAno','TaxaJurosAoMes']].apply(scale).plot.box(ax=axes[0], title='Boxplot com outlier')\n",
        "taxa_juros_sem_outlier[['TaxaJurosAoAno','TaxaJurosAoMes']].apply(scale).plot.box(ax=axes[1], title='Boxplot sem outlier')\n",
        "plt.show()"
      ],
      "metadata": {
        "id": "-Iz9-GOfv5hX"
      },
      "execution_count": null,
      "outputs": []
    },
    {
      "cell_type": "code",
      "source": [
        "taxa_juros_sem_outlier.describe()"
      ],
      "metadata": {
        "id": "5cxDXP-NvwlT"
      },
      "execution_count": null,
      "outputs": []
    },
    {
      "cell_type": "code",
      "source": [
        "sns.heatmap(taxa_juros_sem_outlier.corr(), annot=True)"
      ],
      "metadata": {
        "id": "JEejpp-2yaYa"
      },
      "execution_count": null,
      "outputs": []
    },
    {
      "cell_type": "code",
      "source": [
        "sns.pairplot(taxa_juros_sem_outlier)"
      ],
      "metadata": {
        "id": "gwl4mxQiy27d"
      },
      "execution_count": null,
      "outputs": []
    },
    {
      "cell_type": "code",
      "source": [
        "taxa_juros_sem_outlier.groupby('Posicao')"
      ],
      "metadata": {
        "id": "wACU8wGz1ya5"
      },
      "execution_count": null,
      "outputs": []
    },
    {
      "cell_type": "code",
      "source": [
        "px.histogram(taxa_juros_sem_outlier,x='TaxaJurosAoMes', color='Posicao',y='InstituicaoFinanceira')"
      ],
      "metadata": {
        "id": "2g-3Vdx_2rp8"
      },
      "execution_count": null,
      "outputs": []
    },
    {
      "cell_type": "code",
      "source": [
        "px.density_heatmap(taxa_juros_sem_outlier,x='TaxaJurosAoMes',y='InstituicaoFinanceira')"
      ],
      "metadata": {
        "id": "7jj-371Vy-wC"
      },
      "execution_count": null,
      "outputs": []
    },
    {
      "cell_type": "code",
      "source": [
        "px.scatter(taxa_juros_sem_outlier,y='InstituicaoFinanceira',x='TaxaJurosAoMes', symbol='Posicao')"
      ],
      "metadata": {
        "id": "VbFBM7lDwkEl"
      },
      "execution_count": null,
      "outputs": []
    }
  ]
}